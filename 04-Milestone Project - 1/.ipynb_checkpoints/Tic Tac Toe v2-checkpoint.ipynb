{
 "cells": [
  {
   "cell_type": "code",
   "execution_count": 1,
   "metadata": {},
   "outputs": [],
   "source": [
    "from IPython.display import clear_output\n",
    "import random"
   ]
  },
  {
   "cell_type": "code",
   "execution_count": 2,
   "metadata": {},
   "outputs": [],
   "source": [
    "def display_board(board):\n",
    "    \n",
    "    clear_output() # Clear board history\n",
    "    \n",
    "    print(board[1] + ' | ' + board[2] + ' | ' + board[3])\n",
    "    print(board[4] + ' | ' + board[5] + ' | ' + board[6])\n",
    "    print(board[7] + ' | ' + board[8] + ' | ' + board[9])"
   ]
  },
  {
   "cell_type": "code",
   "execution_count": 3,
   "metadata": {},
   "outputs": [
    {
     "name": "stdout",
     "output_type": "stream",
     "text": [
      "O | X | X\n",
      "X | O | O\n",
      "X | X | X\n"
     ]
    }
   ],
   "source": [
    "test_board = ['#', 'O', 'X', 'X', 'X', 'O', 'O', 'X', 'X', 'X']\n",
    "display_board(test_board)"
   ]
  },
  {
   "cell_type": "code",
   "execution_count": 4,
   "metadata": {},
   "outputs": [],
   "source": [
    "def player_input():\n",
    "    \n",
    "    options = ['X', 'O']\n",
    "    marker = ''\n",
    "    \n",
    "    while marker not in options:\n",
    "        marker = input('Please select a marker [X or O]: ')\n",
    "    else:\n",
    "        player1 = marker\n",
    "    \n",
    "    if player1 == 'X':\n",
    "        player2 = 'O'\n",
    "    else:\n",
    "        player2 = 'X'\n",
    "    \n",
    "    return (player1,player2)"
   ]
  },
  {
   "cell_type": "code",
   "execution_count": 5,
   "metadata": {},
   "outputs": [],
   "source": [
    "def place_marker(board, marker, position):\n",
    "    \n",
    "    board[position] = marker"
   ]
  },
  {
   "cell_type": "code",
   "execution_count": 6,
   "metadata": {},
   "outputs": [],
   "source": [
    "def win_check(board, mark):\n",
    "    \n",
    "    return ((board[1] == mark and board[2] == mark and board[3] == mark) or # across the top \n",
    "    (board[4] == mark and board[5] == mark and board[6] == mark) or # across the middle\n",
    "    (board[7] == mark and board[8] == mark and board[9] == mark) or # across the bottom\n",
    "    (board[1] == mark and board[4] == mark and board[7] == mark) or # down the left\n",
    "    (board[2] == mark and board[5] == mark and board[8] == mark) or # down the middle\n",
    "    (board[3] == mark and board[6] == mark and board[9] == mark) or # down the right\n",
    "    (board[1] == mark and board[5] == mark and board[9] == mark) or # diagonal LTR\n",
    "    (board[3] == mark and board[5] == mark and board[7] == mark)) # diagonal RTL"
   ]
  },
  {
   "cell_type": "code",
   "execution_count": 7,
   "metadata": {},
   "outputs": [],
   "source": [
    "def choose_first():\n",
    "\n",
    "    player1 = random.randint(1,2)\n",
    "    \n",
    "    if player1 == 1:\n",
    "        return 'Player 1'\n",
    "    else: \n",
    "        return 'Player 2'"
   ]
  },
  {
   "cell_type": "code",
   "execution_count": 8,
   "metadata": {},
   "outputs": [],
   "source": [
    "def space_check(board, position):\n",
    "    \n",
    "    return board[position] == ' '"
   ]
  },
  {
   "cell_type": "code",
   "execution_count": 9,
   "metadata": {},
   "outputs": [],
   "source": [
    "def full_board_check(board):\n",
    "    \n",
    "    for i in board:\n",
    "        if i == ' ':\n",
    "            return False\n",
    "    return True"
   ]
  },
  {
   "cell_type": "code",
   "execution_count": 10,
   "metadata": {},
   "outputs": [],
   "source": [
    "def player_choice(board):\n",
    "\n",
    "    position = '0'\n",
    "    \n",
    "    while position not in range(1,10) or not space_check(board, position):\n",
    "        position = int(input('Please select a position [1-9]: '))\n",
    "    \n",
    "    return position"
   ]
  },
  {
   "cell_type": "code",
   "execution_count": 11,
   "metadata": {},
   "outputs": [],
   "source": [
    "def replay():\n",
    "    \n",
    "    return input('Do you want to playe again? [Y or N]: ').lower().startswith('y')"
   ]
  },
  {
   "cell_type": "code",
   "execution_count": null,
   "metadata": {},
   "outputs": [
    {
     "name": "stdout",
     "output_type": "stream",
     "text": [
      "X | O | X\n",
      "O | X | O\n",
      "O | X | X\n",
      "Player 2 has won the game!\n"
     ]
    }
   ],
   "source": [
    "print('Welcome to Tic Tac Toe')\n",
    "\n",
    "while True:\n",
    "    theBoard = [' ']*10 # reset the board\n",
    "    player1, player2 = player_input() # assign markers to each player\n",
    "    turn = choose_first() # defines which pleayer goes first\n",
    "    print('Player 1 is ' + player1 + ' and Player 2 is ' + player2) # prints each marker\n",
    "    print(turn + ' will go first') # prints who goes first\n",
    "\n",
    "    # ask if ready to play\n",
    "    play_game = input('Are you ready to play? Enter Yes or No.')\n",
    "\n",
    "    if play_game.lower()[0] == 'y':\n",
    "        game_on = True\n",
    "    else:\n",
    "        game_on = False\n",
    "    \n",
    "    while game_on:\n",
    "        if turn == 'Player 1':\n",
    "            # player 1's turn\n",
    "            \n",
    "            display_board(theBoard) # display the board\n",
    "            position = player_choice(theBoard)\n",
    "            place_marker(theBoard, player1, position)\n",
    "            \n",
    "            # check if player 1 won\n",
    "            \n",
    "            if win_check(theBoard, player1):\n",
    "                display_board(theBoard)\n",
    "                print('Player 1 has won the game!')\n",
    "                game_on = False\n",
    "            else:\n",
    "                if full_board_check(theBoard):\n",
    "                    display_board(theBoard)\n",
    "                    print('Draw game')\n",
    "                    break\n",
    "                else:\n",
    "                    turn = 'Player 2'\n",
    "        else:\n",
    "            # player 2's turn\n",
    "            \n",
    "            display_board(theBoard)\n",
    "            position = player_choice(theBoard)\n",
    "            place_marker(theBoard, player2, position)\n",
    "            \n",
    "            # check if player 2 won\n",
    "            \n",
    "            if win_check(theBoard, player2):\n",
    "                display_board(theBoard)\n",
    "                print('Player 2 has won the game!')\n",
    "                game_on = False\n",
    "            else:\n",
    "                if full_board_check(theBoard):\n",
    "                    display_board(theBoard)\n",
    "                    print('Draw game')\n",
    "                    break\n",
    "                else:\n",
    "                    turn = 'Player 1'\n",
    "                \n",
    "    if not replay():\n",
    "        break"
   ]
  },
  {
   "cell_type": "code",
   "execution_count": null,
   "metadata": {},
   "outputs": [],
   "source": []
  }
 ],
 "metadata": {
  "kernelspec": {
   "display_name": "Python 3",
   "language": "python",
   "name": "python3"
  },
  "language_info": {
   "codemirror_mode": {
    "name": "ipython",
    "version": 3
   },
   "file_extension": ".py",
   "mimetype": "text/x-python",
   "name": "python",
   "nbconvert_exporter": "python",
   "pygments_lexer": "ipython3",
   "version": "3.8.3"
  }
 },
 "nbformat": 4,
 "nbformat_minor": 4
}
