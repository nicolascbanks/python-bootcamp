{
 "cells": [
  {
   "cell_type": "code",
   "execution_count": 14,
   "metadata": {},
   "outputs": [],
   "source": [
    "def token_pick():\n",
    "    \n",
    "    tokens = ['X', '0']\n",
    "    user_pick = ''\n",
    "    \n",
    "    while user_pick not in tokens:\n",
    "        user_pick = input('Please select: ')\n",
    "    else:\n",
    "        p1_token = user_pick\n",
    "    \n",
    "    if p1_token == 'X':\n",
    "        p2_token = '0'\n",
    "    else:\n",
    "        p2_token = 'X'\n",
    "    \n",
    "    print('Player 1 is: ' + p1_token)\n",
    "    print('Player 2 is: ' + p2_token)"
   ]
  },
  {
   "cell_type": "code",
   "execution_count": 19,
   "metadata": {},
   "outputs": [],
   "source": [
    "def display_board(board):\n",
    "    \n",
    "    row_1 = [board[0], board[1], board[2]]\n",
    "    row_2 = [board[3], board[4], board[5]]\n",
    "    row_3 = [board[6], board[7], board[8]]\n",
    "    \n",
    "    print(row_1)\n",
    "    print(row_2)\n",
    "    print(row_3)"
   ]
  },
  {
   "cell_type": "code",
   "execution_count": 22,
   "metadata": {},
   "outputs": [],
   "source": [
    "test_board = [' ',' ',' ',' ',' ',' ',' ',' ',' ']"
   ]
  }
 ],
 "metadata": {
  "kernelspec": {
   "display_name": "Python 3",
   "language": "python",
   "name": "python3"
  },
  "language_info": {
   "codemirror_mode": {
    "name": "ipython",
    "version": 3
   },
   "file_extension": ".py",
   "mimetype": "text/x-python",
   "name": "python",
   "nbconvert_exporter": "python",
   "pygments_lexer": "ipython3",
   "version": "3.8.3"
  }
 },
 "nbformat": 4,
 "nbformat_minor": 4
}
